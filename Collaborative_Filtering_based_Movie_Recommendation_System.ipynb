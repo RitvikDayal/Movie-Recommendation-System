{
 "cells": [
  {
   "cell_type": "markdown",
   "metadata": {
    "colab_type": "text",
    "id": "l2G-IX2Fdzso"
   },
   "source": [
    "# Movie Recommendation System using Collaborative Filtering"
   ]
  },
  {
   "cell_type": "markdown",
   "metadata": {
    "colab_type": "text",
    "id": "3HS2JhZydzsp"
   },
   "source": [
    "Collaborative filtering approach builds a model from a user’s past behaviors (items previously purchased or selected and/or numerical ratings given to those items) as well as similar decisions made by other users. This model is then used to predict items (or ratings for items) that the user may have an interest in.\n",
    "![alt text](https://thumbs.gfycat.com/ImperturbableAdvancedHorsefly-size_restricted.gif)"
   ]
  },
  {
   "cell_type": "code",
   "execution_count": 1,
   "metadata": {
    "colab": {},
    "colab_type": "code",
    "id": "Oz2nVC1Ldzsq"
   },
   "outputs": [],
   "source": [
    "# Required Imports\n",
    "import pandas as pd\n",
    "import numpy as np\n",
    "import matplotlib.pyplot as plt\n",
    "from scipy import sparse"
   ]
  },
  {
   "cell_type": "markdown",
   "metadata": {
    "colab_type": "text",
    "id": "hXMMImrzdzsy"
   },
   "source": [
    "### Let's Talk a bit about Data.\n",
    "__To build our Movie Recommendation System using the collaborative filtering approach we will be using [Movie Lens](https://grouplens.org/datasets/movielens/latest/) Dataset as it is regularly updated and coontains less noise.__\n",
    "***\n",
    "Few of the other dataset that can be used for this purpose are:-\n",
    "- [Yahoo! - Movie, Music, and Images Ratings Data Sets](http://webscope.sandbox.yahoo.com/catalog.php?datatype=r)\n",
    "- [Jester - Movie Ratings Data Sets (Collaborative Filtering Dataset)](http://www.ieor.berkeley.edu/~goldberg/jester-data/)\n",
    "- [Cornell University - Movie-review data for use in sentiment-analysis experiments](http://www.cs.cornell.edu/people/pabo/movie-review-data/)\n",
    "---\n",
    "---\n",
    "Data from the source comes in a .zip format so lets load the data and unzip it and extract files we need.\n",
    "Files Required:-\n",
    "1. movies.csv - movies dataset containing all related info.\n",
    "2. ratings.csv - ratings dataset contains dataset ralted to ratings given to each movie in above dataset by different users.\n"
   ]
  },
  {
   "cell_type": "code",
   "execution_count": 2,
   "metadata": {
    "colab": {},
    "colab_type": "code",
    "id": "TdozVHHkdzsz"
   },
   "outputs": [],
   "source": [
    "movies_df = pd.read_csv('movies.csv', usecols=['movieId', 'title'],\n",
    "                        dtype={'movieId': 'int32', 'title': 'str'})\n",
    "\n",
    "ratings_df = pd.read_csv('ratings_dataset.csv', usecols=['userId', 'movieId', 'rating'],\n",
    "                         dtype={'userId': 'int32', 'movieId': 'int32', 'rating': 'float32'})"
   ]
  },
  {
   "cell_type": "code",
   "execution_count": 3,
   "metadata": {
    "colab": {
     "base_uri": "https://localhost:8080/",
     "height": 52
    },
    "colab_type": "code",
    "id": "j2sEK_OBdzs3",
    "outputId": "826e17da-1919-4f37-e13a-c6e9bf8e8d70"
   },
   "outputs": [
    {
     "name": "stdout",
     "output_type": "stream",
     "text": [
      "Movies Dataset Size: 58098 x 2\n",
      "Ratings Dataset Size: 1048575 x 3\n"
     ]
    }
   ],
   "source": [
    "print('Movies Dataset Size: {} x {}'.format(movies_df.shape[0], movies_df.shape[1]))\n",
    "print('Ratings Dataset Size: {} x {}'.format(ratings_df.shape[0], ratings_df.shape[1]))"
   ]
  },
  {
   "cell_type": "code",
   "execution_count": 4,
   "metadata": {
    "colab": {},
    "colab_type": "code",
    "id": "eZ3GeNhrdzs7"
   },
   "outputs": [],
   "source": [
    "ratings_df = pd.merge(movies_df, ratings_df)"
   ]
  },
  {
   "cell_type": "code",
   "execution_count": 5,
   "metadata": {
    "colab": {
     "base_uri": "https://localhost:8080/",
     "height": 197
    },
    "colab_type": "code",
    "id": "id14nwpmdzs_",
    "outputId": "2d66eb13-64ee-4134-81bb-ad6f51d2f17e"
   },
   "outputs": [
    {
     "data": {
      "text/html": [
       "<div>\n",
       "<style scoped>\n",
       "    .dataframe tbody tr th:only-of-type {\n",
       "        vertical-align: middle;\n",
       "    }\n",
       "\n",
       "    .dataframe tbody tr th {\n",
       "        vertical-align: top;\n",
       "    }\n",
       "\n",
       "    .dataframe thead th {\n",
       "        text-align: right;\n",
       "    }\n",
       "</style>\n",
       "<table border=\"1\" class=\"dataframe\">\n",
       "  <thead>\n",
       "    <tr style=\"text-align: right;\">\n",
       "      <th></th>\n",
       "      <th>movieId</th>\n",
       "      <th>title</th>\n",
       "    </tr>\n",
       "  </thead>\n",
       "  <tbody>\n",
       "    <tr>\n",
       "      <th>0</th>\n",
       "      <td>1</td>\n",
       "      <td>Toy Story (1995)</td>\n",
       "    </tr>\n",
       "    <tr>\n",
       "      <th>1</th>\n",
       "      <td>2</td>\n",
       "      <td>Jumanji (1995)</td>\n",
       "    </tr>\n",
       "    <tr>\n",
       "      <th>2</th>\n",
       "      <td>3</td>\n",
       "      <td>Grumpier Old Men (1995)</td>\n",
       "    </tr>\n",
       "    <tr>\n",
       "      <th>3</th>\n",
       "      <td>4</td>\n",
       "      <td>Waiting to Exhale (1995)</td>\n",
       "    </tr>\n",
       "    <tr>\n",
       "      <th>4</th>\n",
       "      <td>5</td>\n",
       "      <td>Father of the Bride Part II (1995)</td>\n",
       "    </tr>\n",
       "  </tbody>\n",
       "</table>\n",
       "</div>"
      ],
      "text/plain": [
       "   movieId                               title\n",
       "0        1                    Toy Story (1995)\n",
       "1        2                      Jumanji (1995)\n",
       "2        3             Grumpier Old Men (1995)\n",
       "3        4            Waiting to Exhale (1995)\n",
       "4        5  Father of the Bride Part II (1995)"
      ]
     },
     "execution_count": 5,
     "metadata": {},
     "output_type": "execute_result"
    }
   ],
   "source": [
    "movies_df.head()"
   ]
  },
  {
   "cell_type": "code",
   "execution_count": 6,
   "metadata": {
    "colab": {
     "base_uri": "https://localhost:8080/",
     "height": 197
    },
    "colab_type": "code",
    "id": "1nCt-tVZdztD",
    "outputId": "038c031a-d9f7-4bd4-ab27-b2744423ae03"
   },
   "outputs": [
    {
     "data": {
      "text/html": [
       "<div>\n",
       "<style scoped>\n",
       "    .dataframe tbody tr th:only-of-type {\n",
       "        vertical-align: middle;\n",
       "    }\n",
       "\n",
       "    .dataframe tbody tr th {\n",
       "        vertical-align: top;\n",
       "    }\n",
       "\n",
       "    .dataframe thead th {\n",
       "        text-align: right;\n",
       "    }\n",
       "</style>\n",
       "<table border=\"1\" class=\"dataframe\">\n",
       "  <thead>\n",
       "    <tr style=\"text-align: right;\">\n",
       "      <th></th>\n",
       "      <th>movieId</th>\n",
       "      <th>title</th>\n",
       "      <th>userId</th>\n",
       "      <th>rating</th>\n",
       "    </tr>\n",
       "  </thead>\n",
       "  <tbody>\n",
       "    <tr>\n",
       "      <th>0</th>\n",
       "      <td>1</td>\n",
       "      <td>Toy Story (1995)</td>\n",
       "      <td>4</td>\n",
       "      <td>4.0</td>\n",
       "    </tr>\n",
       "    <tr>\n",
       "      <th>1</th>\n",
       "      <td>1</td>\n",
       "      <td>Toy Story (1995)</td>\n",
       "      <td>10</td>\n",
       "      <td>5.0</td>\n",
       "    </tr>\n",
       "    <tr>\n",
       "      <th>2</th>\n",
       "      <td>1</td>\n",
       "      <td>Toy Story (1995)</td>\n",
       "      <td>14</td>\n",
       "      <td>4.5</td>\n",
       "    </tr>\n",
       "    <tr>\n",
       "      <th>3</th>\n",
       "      <td>1</td>\n",
       "      <td>Toy Story (1995)</td>\n",
       "      <td>15</td>\n",
       "      <td>4.0</td>\n",
       "    </tr>\n",
       "    <tr>\n",
       "      <th>4</th>\n",
       "      <td>1</td>\n",
       "      <td>Toy Story (1995)</td>\n",
       "      <td>22</td>\n",
       "      <td>4.0</td>\n",
       "    </tr>\n",
       "  </tbody>\n",
       "</table>\n",
       "</div>"
      ],
      "text/plain": [
       "   movieId             title  userId  rating\n",
       "0        1  Toy Story (1995)       4     4.0\n",
       "1        1  Toy Story (1995)      10     5.0\n",
       "2        1  Toy Story (1995)      14     4.5\n",
       "3        1  Toy Story (1995)      15     4.0\n",
       "4        1  Toy Story (1995)      22     4.0"
      ]
     },
     "execution_count": 6,
     "metadata": {},
     "output_type": "execute_result"
    }
   ],
   "source": [
    "ratings_df.head()"
   ]
  },
  {
   "cell_type": "markdown",
   "metadata": {
    "colab_type": "text",
    "id": "XlQjMXKldztH"
   },
   "source": [
    "# Exploratory data analysis"
   ]
  },
  {
   "cell_type": "markdown",
   "metadata": {
    "colab_type": "text",
    "id": "68UJLUHZdztI"
   },
   "source": [
    "1. __Plot the counts of each rating__\n",
    "we first need to get the counts of each rating from ratings data"
   ]
  },
  {
   "cell_type": "code",
   "execution_count": 7,
   "metadata": {
    "colab": {
     "base_uri": "https://localhost:8080/",
     "height": 376
    },
    "colab_type": "code",
    "id": "pgvGWlUSdztJ",
    "outputId": "913df96e-879a-43fe-cd76-b2ddc41ecb69"
   },
   "outputs": [
    {
     "data": {
      "text/html": [
       "<div>\n",
       "<style scoped>\n",
       "    .dataframe tbody tr th:only-of-type {\n",
       "        vertical-align: middle;\n",
       "    }\n",
       "\n",
       "    .dataframe tbody tr th {\n",
       "        vertical-align: top;\n",
       "    }\n",
       "\n",
       "    .dataframe thead th {\n",
       "        text-align: right;\n",
       "    }\n",
       "</style>\n",
       "<table border=\"1\" class=\"dataframe\">\n",
       "  <thead>\n",
       "    <tr style=\"text-align: right;\">\n",
       "      <th></th>\n",
       "      <th>count</th>\n",
       "    </tr>\n",
       "    <tr>\n",
       "      <th>rating</th>\n",
       "      <th></th>\n",
       "    </tr>\n",
       "  </thead>\n",
       "  <tbody>\n",
       "    <tr>\n",
       "      <th>0.5</th>\n",
       "      <td>19099</td>\n",
       "    </tr>\n",
       "    <tr>\n",
       "      <th>1.0</th>\n",
       "      <td>33017</td>\n",
       "    </tr>\n",
       "    <tr>\n",
       "      <th>1.5</th>\n",
       "      <td>16660</td>\n",
       "    </tr>\n",
       "    <tr>\n",
       "      <th>2.0</th>\n",
       "      <td>70427</td>\n",
       "    </tr>\n",
       "    <tr>\n",
       "      <th>2.5</th>\n",
       "      <td>51076</td>\n",
       "    </tr>\n",
       "    <tr>\n",
       "      <th>3.0</th>\n",
       "      <td>209822</td>\n",
       "    </tr>\n",
       "    <tr>\n",
       "      <th>3.5</th>\n",
       "      <td>128663</td>\n",
       "    </tr>\n",
       "    <tr>\n",
       "      <th>4.0</th>\n",
       "      <td>278222</td>\n",
       "    </tr>\n",
       "    <tr>\n",
       "      <th>4.5</th>\n",
       "      <td>89672</td>\n",
       "    </tr>\n",
       "    <tr>\n",
       "      <th>5.0</th>\n",
       "      <td>151917</td>\n",
       "    </tr>\n",
       "  </tbody>\n",
       "</table>\n",
       "</div>"
      ],
      "text/plain": [
       "         count\n",
       "rating        \n",
       "0.5      19099\n",
       "1.0      33017\n",
       "1.5      16660\n",
       "2.0      70427\n",
       "2.5      51076\n",
       "3.0     209822\n",
       "3.5     128663\n",
       "4.0     278222\n",
       "4.5      89672\n",
       "5.0     151917"
      ]
     },
     "execution_count": 7,
     "metadata": {},
     "output_type": "execute_result"
    }
   ],
   "source": [
    "# get count\n",
    "df_ratings_cnt_tmp = pd.DataFrame(ratings_df.groupby('rating').size(), columns=['count'])\n",
    "df_ratings_cnt_tmp"
   ]
  },
  {
   "cell_type": "code",
   "execution_count": 8,
   "metadata": {
    "colab": {
     "base_uri": "https://localhost:8080/",
     "height": 35
    },
    "colab_type": "code",
    "id": "g2iYBcKtdztN",
    "outputId": "e276bb42-3691-437b-d3c0-c1f73c7e229c"
   },
   "outputs": [
    {
     "name": "stdout",
     "output_type": "stream",
     "text": [
      "There are 10532 unique users and 22156 unique movies in this data set\n"
     ]
    }
   ],
   "source": [
    "num_users = len(ratings_df.userId.unique())\n",
    "num_items = len(ratings_df.movieId.unique())\n",
    "print('There are {} unique users and {} unique movies in this data set'.format(num_users, num_items))"
   ]
  },
  {
   "cell_type": "code",
   "execution_count": 9,
   "metadata": {
    "colab": {
     "base_uri": "https://localhost:8080/",
     "height": 376
    },
    "colab_type": "code",
    "id": "O3f1_C7-dztQ",
    "outputId": "35b01a6b-558a-4a34-a44e-a462cd8c80b7"
   },
   "outputs": [
    {
     "data": {
      "text/html": [
       "<div>\n",
       "<style scoped>\n",
       "    .dataframe tbody tr th:only-of-type {\n",
       "        vertical-align: middle;\n",
       "    }\n",
       "\n",
       "    .dataframe tbody tr th {\n",
       "        vertical-align: top;\n",
       "    }\n",
       "\n",
       "    .dataframe thead th {\n",
       "        text-align: right;\n",
       "    }\n",
       "</style>\n",
       "<table border=\"1\" class=\"dataframe\">\n",
       "  <thead>\n",
       "    <tr style=\"text-align: right;\">\n",
       "      <th></th>\n",
       "      <th>count</th>\n",
       "    </tr>\n",
       "  </thead>\n",
       "  <tbody>\n",
       "    <tr>\n",
       "      <th>0.0</th>\n",
       "      <td>232298417</td>\n",
       "    </tr>\n",
       "    <tr>\n",
       "      <th>0.5</th>\n",
       "      <td>19099</td>\n",
       "    </tr>\n",
       "    <tr>\n",
       "      <th>1.0</th>\n",
       "      <td>33017</td>\n",
       "    </tr>\n",
       "    <tr>\n",
       "      <th>1.5</th>\n",
       "      <td>16660</td>\n",
       "    </tr>\n",
       "    <tr>\n",
       "      <th>2.0</th>\n",
       "      <td>70427</td>\n",
       "    </tr>\n",
       "    <tr>\n",
       "      <th>2.5</th>\n",
       "      <td>51076</td>\n",
       "    </tr>\n",
       "    <tr>\n",
       "      <th>3.0</th>\n",
       "      <td>209822</td>\n",
       "    </tr>\n",
       "    <tr>\n",
       "      <th>3.5</th>\n",
       "      <td>128663</td>\n",
       "    </tr>\n",
       "    <tr>\n",
       "      <th>4.0</th>\n",
       "      <td>278222</td>\n",
       "    </tr>\n",
       "    <tr>\n",
       "      <th>4.5</th>\n",
       "      <td>89672</td>\n",
       "    </tr>\n",
       "    <tr>\n",
       "      <th>5.0</th>\n",
       "      <td>151917</td>\n",
       "    </tr>\n",
       "  </tbody>\n",
       "</table>\n",
       "</div>"
      ],
      "text/plain": [
       "         count\n",
       "0.0  232298417\n",
       "0.5      19099\n",
       "1.0      33017\n",
       "1.5      16660\n",
       "2.0      70427\n",
       "2.5      51076\n",
       "3.0     209822\n",
       "3.5     128663\n",
       "4.0     278222\n",
       "4.5      89672\n",
       "5.0     151917"
      ]
     },
     "execution_count": 9,
     "metadata": {},
     "output_type": "execute_result"
    }
   ],
   "source": [
    "# there are a lot more counts in rating of zero\n",
    "total_cnt = num_users * num_items\n",
    "rating_zero_cnt = total_cnt - ratings_df.shape[0]\n",
    "\n",
    "# append counts of zero rating to df_ratings_cnt\n",
    "df_ratings_cnt = df_ratings_cnt_tmp.append(\n",
    "    pd.DataFrame({'count': rating_zero_cnt}, index=[0.0]),\n",
    "    verify_integrity=True,\n",
    ").sort_index()\n",
    "\n",
    "df_ratings_cnt"
   ]
  },
  {
   "cell_type": "code",
   "execution_count": 10,
   "metadata": {
    "colab": {
     "base_uri": "https://localhost:8080/",
     "height": 376
    },
    "colab_type": "code",
    "id": "P4OsLlprdztU",
    "outputId": "9a1254b0-d69d-4f6d-88f4-106da1d958dc"
   },
   "outputs": [
    {
     "data": {
      "text/html": [
       "<div>\n",
       "<style scoped>\n",
       "    .dataframe tbody tr th:only-of-type {\n",
       "        vertical-align: middle;\n",
       "    }\n",
       "\n",
       "    .dataframe tbody tr th {\n",
       "        vertical-align: top;\n",
       "    }\n",
       "\n",
       "    .dataframe thead th {\n",
       "        text-align: right;\n",
       "    }\n",
       "</style>\n",
       "<table border=\"1\" class=\"dataframe\">\n",
       "  <thead>\n",
       "    <tr style=\"text-align: right;\">\n",
       "      <th></th>\n",
       "      <th>count</th>\n",
       "      <th>log_count</th>\n",
       "    </tr>\n",
       "  </thead>\n",
       "  <tbody>\n",
       "    <tr>\n",
       "      <th>0.0</th>\n",
       "      <td>232298417</td>\n",
       "      <td>19.263533</td>\n",
       "    </tr>\n",
       "    <tr>\n",
       "      <th>0.5</th>\n",
       "      <td>19099</td>\n",
       "      <td>9.857391</td>\n",
       "    </tr>\n",
       "    <tr>\n",
       "      <th>1.0</th>\n",
       "      <td>33017</td>\n",
       "      <td>10.404778</td>\n",
       "    </tr>\n",
       "    <tr>\n",
       "      <th>1.5</th>\n",
       "      <td>16660</td>\n",
       "      <td>9.720766</td>\n",
       "    </tr>\n",
       "    <tr>\n",
       "      <th>2.0</th>\n",
       "      <td>70427</td>\n",
       "      <td>11.162332</td>\n",
       "    </tr>\n",
       "    <tr>\n",
       "      <th>2.5</th>\n",
       "      <td>51076</td>\n",
       "      <td>10.841070</td>\n",
       "    </tr>\n",
       "    <tr>\n",
       "      <th>3.0</th>\n",
       "      <td>209822</td>\n",
       "      <td>12.254015</td>\n",
       "    </tr>\n",
       "    <tr>\n",
       "      <th>3.5</th>\n",
       "      <td>128663</td>\n",
       "      <td>11.764952</td>\n",
       "    </tr>\n",
       "    <tr>\n",
       "      <th>4.0</th>\n",
       "      <td>278222</td>\n",
       "      <td>12.536175</td>\n",
       "    </tr>\n",
       "    <tr>\n",
       "      <th>4.5</th>\n",
       "      <td>89672</td>\n",
       "      <td>11.403914</td>\n",
       "    </tr>\n",
       "    <tr>\n",
       "      <th>5.0</th>\n",
       "      <td>151917</td>\n",
       "      <td>11.931090</td>\n",
       "    </tr>\n",
       "  </tbody>\n",
       "</table>\n",
       "</div>"
      ],
      "text/plain": [
       "         count  log_count\n",
       "0.0  232298417  19.263533\n",
       "0.5      19099   9.857391\n",
       "1.0      33017  10.404778\n",
       "1.5      16660   9.720766\n",
       "2.0      70427  11.162332\n",
       "2.5      51076  10.841070\n",
       "3.0     209822  12.254015\n",
       "3.5     128663  11.764952\n",
       "4.0     278222  12.536175\n",
       "4.5      89672  11.403914\n",
       "5.0     151917  11.931090"
      ]
     },
     "execution_count": 10,
     "metadata": {},
     "output_type": "execute_result"
    }
   ],
   "source": [
    "# add log count\n",
    "df_ratings_cnt['log_count'] = np.log(df_ratings_cnt['count'])\n",
    "df_ratings_cnt"
   ]
  },
  {
   "cell_type": "code",
   "execution_count": 11,
   "metadata": {
    "colab": {
     "base_uri": "https://localhost:8080/",
     "height": 540
    },
    "colab_type": "code",
    "id": "pdjrnXZ3dztZ",
    "outputId": "33d3b0a4-c49d-49a8-ee47-b32713e2c798"
   },
   "outputs": [
    {
     "data": {
      "text/plain": [
       "Text(0, 0.5, 'number of ratings')"
      ]
     },
     "execution_count": 11,
     "metadata": {},
     "output_type": "execute_result"
    },
    {
     "data": {
      "image/png": "[encoded data removed]",
      "text/plain": [
       "<Figure size 864x576 with 1 Axes>"
      ]
     },
     "metadata": {
      "needs_background": "light"
     },
     "output_type": "display_data"
    }
   ],
   "source": [
    "ax = df_ratings_cnt[['count']].reset_index().rename(columns={'index': 'rating score'}).plot(\n",
    "    x='rating score',\n",
    "    y='count',\n",
    "    kind='bar',\n",
    "    figsize=(12, 8),\n",
    "    title='Count for Each Rating Score (in Log Scale)',\n",
    "    logy=True,\n",
    "    fontsize=12,\n",
    ")\n",
    "ax.set_xlabel(\"movie rating score\")\n",
    "ax.set_ylabel(\"number of ratings\")"
   ]
  },
  {
   "cell_type": "markdown",
   "metadata": {
    "colab_type": "text",
    "id": "fCsk4rhmdztd"
   },
   "source": [
    "__It is worth noting that most of the users have given a voting of 3 or 4 then other ratings.__"
   ]
  },
  {
   "cell_type": "markdown",
   "metadata": {
    "colab_type": "text",
    "id": "kzBIukOGdzte"
   },
   "source": [
    "---\n",
    "---\n",
    "---"
   ]
  },
  {
   "cell_type": "markdown",
   "metadata": {
    "colab_type": "text",
    "id": "2-CRwgJddzte"
   },
   "source": [
    ">Here we have all data with us so lets start Building the model. Before building the model we might need to transform our data so that we can feed it ot our model. We will pivoting the data frame."
   ]
  },
  {
   "cell_type": "markdown",
   "metadata": {
    "colab_type": "text",
    "id": "GxHfs80_dztf"
   },
   "source": [
    "## Pivoting: -\n",
    "\n",
    "I understand most of my readers might not know what is pivoting so lets discuss a litlle about pivoting.\n",
    "\n",
    "- __Pivot Table__ : A pivot table is a table of statistics that summarizes the data of a more extensive table. This summary might include sums, averages, or other statistics, which the pivot table groups together in a meaningful way. Pivot tables are a technique in data processing. [source](https://en.wikipedia.org/wiki/Pivot_table)\n",
    "\n",
    "![alt text](https://pandas.pydata.org/pandas-docs/stable/_images/reshaping_pivot.png)\n",
    "\n",
    "\n",
    "Now Simple Definition for Pivoting:-\n",
    "\n",
    "> __Pivoting a dataframe or a table can be viewed oor understood as transforming the dataframe i.e. replacing the row with the column info and vice versa.__ "
   ]
  },
  {
   "cell_type": "markdown",
   "metadata": {
    "colab_type": "text",
    "id": "_R0RlaNhdztg"
   },
   "source": [
    "##### So now we know what is pivoting so lets get started !"
   ]
  },
  {
   "cell_type": "code",
   "execution_count": 12,
   "metadata": {
    "colab": {
     "base_uri": "https://localhost:8080/",
     "height": 412
    },
    "colab_type": "code",
    "id": "VaOvTBoKdzth",
    "outputId": "3cd31a15-39bb-45ae-fdba-d9172390ce45"
   },
   "outputs": [
    {
     "data": {
      "text/html": [
       "<div>\n",
       "<style scoped>\n",
       "    .dataframe tbody tr th:only-of-type {\n",
       "        vertical-align: middle;\n",
       "    }\n",
       "\n",
       "    .dataframe tbody tr th {\n",
       "        vertical-align: top;\n",
       "    }\n",
       "\n",
       "    .dataframe thead th {\n",
       "        text-align: right;\n",
       "    }\n",
       "</style>\n",
       "<table border=\"1\" class=\"dataframe\">\n",
       "  <thead>\n",
       "    <tr style=\"text-align: right;\">\n",
       "      <th>title</th>\n",
       "      <th>\"Great Performances\" Cats (1998)</th>\n",
       "      <th>#Horror (2015)</th>\n",
       "      <th>#realityhigh (2017)</th>\n",
       "      <th>$ (Dollars) (1971)</th>\n",
       "      <th>$5 a Day (2008)</th>\n",
       "      <th>$9.99 (2008)</th>\n",
       "      <th>'71 (2014)</th>\n",
       "      <th>'Hellboy': The Seeds of Creation (2004)</th>\n",
       "      <th>'Human' Factor, The (Human Factor, The) (1975)</th>\n",
       "      <th>'Pimpernel' Smith (1941)</th>\n",
       "      <th>...</th>\n",
       "      <th>Мартынко (1987)</th>\n",
       "      <th>Мафия (2016)</th>\n",
       "      <th>Никто не знает про секс (2006)</th>\n",
       "      <th>Обезьянки и грабители (1985)</th>\n",
       "      <th>Он вам не Димон (2017)</th>\n",
       "      <th>Оно (1990)</th>\n",
       "      <th>Сердца трех (1992)</th>\n",
       "      <th>Юленька (2009)</th>\n",
       "      <th>Я худею (2018)</th>\n",
       "      <th>チェブラーシカ (2010)</th>\n",
       "    </tr>\n",
       "    <tr>\n",
       "      <th>userId</th>\n",
       "      <th></th>\n",
       "      <th></th>\n",
       "      <th></th>\n",
       "      <th></th>\n",
       "      <th></th>\n",
       "      <th></th>\n",
       "      <th></th>\n",
       "      <th></th>\n",
       "      <th></th>\n",
       "      <th></th>\n",
       "      <th></th>\n",
       "      <th></th>\n",
       "      <th></th>\n",
       "      <th></th>\n",
       "      <th></th>\n",
       "      <th></th>\n",
       "      <th></th>\n",
       "      <th></th>\n",
       "      <th></th>\n",
       "      <th></th>\n",
       "      <th></th>\n",
       "    </tr>\n",
       "  </thead>\n",
       "  <tbody>\n",
       "    <tr>\n",
       "      <th>1</th>\n",
       "      <td>NaN</td>\n",
       "      <td>NaN</td>\n",
       "      <td>NaN</td>\n",
       "      <td>NaN</td>\n",
       "      <td>NaN</td>\n",
       "      <td>NaN</td>\n",
       "      <td>NaN</td>\n",
       "      <td>NaN</td>\n",
       "      <td>NaN</td>\n",
       "      <td>NaN</td>\n",
       "      <td>...</td>\n",
       "      <td>NaN</td>\n",
       "      <td>NaN</td>\n",
       "      <td>NaN</td>\n",
       "      <td>NaN</td>\n",
       "      <td>NaN</td>\n",
       "      <td>NaN</td>\n",
       "      <td>NaN</td>\n",
       "      <td>NaN</td>\n",
       "      <td>NaN</td>\n",
       "      <td>NaN</td>\n",
       "    </tr>\n",
       "    <tr>\n",
       "      <th>2</th>\n",
       "      <td>NaN</td>\n",
       "      <td>NaN</td>\n",
       "      <td>NaN</td>\n",
       "      <td>NaN</td>\n",
       "      <td>NaN</td>\n",
       "      <td>NaN</td>\n",
       "      <td>NaN</td>\n",
       "      <td>NaN</td>\n",
       "      <td>NaN</td>\n",
       "      <td>NaN</td>\n",
       "      <td>...</td>\n",
       "      <td>NaN</td>\n",
       "      <td>NaN</td>\n",
       "      <td>NaN</td>\n",
       "      <td>NaN</td>\n",
       "      <td>NaN</td>\n",
       "      <td>NaN</td>\n",
       "      <td>NaN</td>\n",
       "      <td>NaN</td>\n",
       "      <td>NaN</td>\n",
       "      <td>NaN</td>\n",
       "    </tr>\n",
       "    <tr>\n",
       "      <th>3</th>\n",
       "      <td>NaN</td>\n",
       "      <td>NaN</td>\n",
       "      <td>NaN</td>\n",
       "      <td>NaN</td>\n",
       "      <td>NaN</td>\n",
       "      <td>NaN</td>\n",
       "      <td>NaN</td>\n",
       "      <td>NaN</td>\n",
       "      <td>NaN</td>\n",
       "      <td>NaN</td>\n",
       "      <td>...</td>\n",
       "      <td>NaN</td>\n",
       "      <td>NaN</td>\n",
       "      <td>NaN</td>\n",
       "      <td>NaN</td>\n",
       "      <td>NaN</td>\n",
       "      <td>NaN</td>\n",
       "      <td>NaN</td>\n",
       "      <td>NaN</td>\n",
       "      <td>NaN</td>\n",
       "      <td>NaN</td>\n",
       "    </tr>\n",
       "    <tr>\n",
       "      <th>4</th>\n",
       "      <td>NaN</td>\n",
       "      <td>NaN</td>\n",
       "      <td>NaN</td>\n",
       "      <td>NaN</td>\n",
       "      <td>NaN</td>\n",
       "      <td>NaN</td>\n",
       "      <td>NaN</td>\n",
       "      <td>NaN</td>\n",
       "      <td>NaN</td>\n",
       "      <td>NaN</td>\n",
       "      <td>...</td>\n",
       "      <td>NaN</td>\n",
       "      <td>NaN</td>\n",
       "      <td>NaN</td>\n",
       "      <td>NaN</td>\n",
       "      <td>NaN</td>\n",
       "      <td>NaN</td>\n",
       "      <td>NaN</td>\n",
       "      <td>NaN</td>\n",
       "      <td>NaN</td>\n",
       "      <td>NaN</td>\n",
       "    </tr>\n",
       "    <tr>\n",
       "      <th>5</th>\n",
       "      <td>NaN</td>\n",
       "      <td>NaN</td>\n",
       "      <td>NaN</td>\n",
       "      <td>NaN</td>\n",
       "      <td>NaN</td>\n",
       "      <td>NaN</td>\n",
       "      <td>NaN</td>\n",
       "      <td>NaN</td>\n",
       "      <td>NaN</td>\n",
       "      <td>NaN</td>\n",
       "      <td>...</td>\n",
       "      <td>NaN</td>\n",
       "      <td>NaN</td>\n",
       "      <td>NaN</td>\n",
       "      <td>NaN</td>\n",
       "      <td>NaN</td>\n",
       "      <td>NaN</td>\n",
       "      <td>NaN</td>\n",
       "      <td>NaN</td>\n",
       "      <td>NaN</td>\n",
       "      <td>NaN</td>\n",
       "    </tr>\n",
       "  </tbody>\n",
       "</table>\n",
       "<p>5 rows × 22147 columns</p>\n",
       "</div>"
      ],
      "text/plain": [
       "title   \"Great Performances\" Cats (1998)  #Horror (2015)  #realityhigh (2017)  \\\n",
       "userId                                                                          \n",
       "1                                    NaN             NaN                  NaN   \n",
       "2                                    NaN             NaN                  NaN   \n",
       "3                                    NaN             NaN                  NaN   \n",
       "4                                    NaN             NaN                  NaN   \n",
       "5                                    NaN             NaN                  NaN   \n",
       "\n",
       "title   $ (Dollars) (1971)  $5 a Day (2008)  $9.99 (2008)  '71 (2014)  \\\n",
       "userId                                                                  \n",
       "1                      NaN              NaN           NaN         NaN   \n",
       "2                      NaN              NaN           NaN         NaN   \n",
       "3                      NaN              NaN           NaN         NaN   \n",
       "4                      NaN              NaN           NaN         NaN   \n",
       "5                      NaN              NaN           NaN         NaN   \n",
       "\n",
       "title   'Hellboy': The Seeds of Creation (2004)  \\\n",
       "userId                                            \n",
       "1                                           NaN   \n",
       "2                                           NaN   \n",
       "3                                           NaN   \n",
       "4                                           NaN   \n",
       "5                                           NaN   \n",
       "\n",
       "title   'Human' Factor, The (Human Factor, The) (1975)  \\\n",
       "userId                                                   \n",
       "1                                                  NaN   \n",
       "2                                                  NaN   \n",
       "3                                                  NaN   \n",
       "4                                                  NaN   \n",
       "5                                                  NaN   \n",
       "\n",
       "title   'Pimpernel' Smith (1941)  ...  Мартынко (1987)  Мафия (2016)  \\\n",
       "userId                            ...                                  \n",
       "1                            NaN  ...              NaN           NaN   \n",
       "2                            NaN  ...              NaN           NaN   \n",
       "3                            NaN  ...              NaN           NaN   \n",
       "4                            NaN  ...              NaN           NaN   \n",
       "5                            NaN  ...              NaN           NaN   \n",
       "\n",
       "title   Никто не знает про секс (2006)  Обезьянки и грабители (1985)  \\\n",
       "userId                                                                 \n",
       "1                                  NaN                           NaN   \n",
       "2                                  NaN                           NaN   \n",
       "3                                  NaN                           NaN   \n",
       "4                                  NaN                           NaN   \n",
       "5                                  NaN                           NaN   \n",
       "\n",
       "title   Он вам не Димон (2017)  Оно (1990)  Сердца трех (1992)  \\\n",
       "userId                                                           \n",
       "1                          NaN         NaN                 NaN   \n",
       "2                          NaN         NaN                 NaN   \n",
       "3                          NaN         NaN                 NaN   \n",
       "4                          NaN         NaN                 NaN   \n",
       "5                          NaN         NaN                 NaN   \n",
       "\n",
       "title   Юленька (2009)  Я худею (2018)  チェブラーシカ (2010)  \n",
       "userId                                                  \n",
       "1                  NaN             NaN             NaN  \n",
       "2                  NaN             NaN             NaN  \n",
       "3                  NaN             NaN             NaN  \n",
       "4                  NaN             NaN             NaN  \n",
       "5                  NaN             NaN             NaN  \n",
       "\n",
       "[5 rows x 22147 columns]"
      ]
     },
     "execution_count": 12,
     "metadata": {},
     "output_type": "execute_result"
    }
   ],
   "source": [
    "user_ratings = ratings_df.pivot_table(index=['userId'],columns=['title'],values='rating')\n",
    "user_ratings.head()"
   ]
  },
  {
   "cell_type": "markdown",
   "metadata": {
    "colab_type": "text",
    "id": "Bhh49SMQdztk"
   },
   "source": [
    "__So we see we got a lot of ```NAN```. This is because a single user cannot practically watch and rate all 22147 movies so we will eliminate all the user reviews who have voted only for 4 or less movies.__"
   ]
  },
  {
   "cell_type": "markdown",
   "metadata": {
    "colab_type": "text",
    "id": "-4Oja_-Edztl"
   },
   "source": [
    ">Running the above code might give errors such as :-\n",
    "```sh\n",
    "ValueError: Unstacked DataFrame is too big, causing int32 overflow\n",
    "```\n",
    "\n",
    "> To deal with thi error you will find either of the two solutions:-\n",
    "- Shrink the size of input for ```.pivot()``` function.\n",
    "- Downgrade the 'Pandas' version to 0.21 .\n",
    "***\n",
    "> Both of the solutions are good and solve the problem but which one will be easy and feasable. Most of us will think that instead of shrinking the data we will downgrade pandas version well it can be done but if you are using python version 3.8 or some versions of 3.7.x there will errors while downgrading pandas as downgrading pandas will require some dependencies that needs to be downgraded or downloaded so to save time and go with the most effective method we must remove some of out rows that either contain no empty review or unvalid integer as review."
   ]
  },
  {
   "cell_type": "code",
   "execution_count": 13,
   "metadata": {
    "colab": {
     "base_uri": "https://localhost:8080/",
     "height": 447
    },
    "colab_type": "code",
    "id": "46OoWBPLdztl",
    "outputId": "d0c08575-e7b7-42be-d90e-f4d8e469dcde",
    "scrolled": true
   },
   "outputs": [
    {
     "data": {
      "text/html": [
       "<div>\n",
       "<style scoped>\n",
       "    .dataframe tbody tr th:only-of-type {\n",
       "        vertical-align: middle;\n",
       "    }\n",
       "\n",
       "    .dataframe tbody tr th {\n",
       "        vertical-align: top;\n",
       "    }\n",
       "\n",
       "    .dataframe thead th {\n",
       "        text-align: right;\n",
       "    }\n",
       "</style>\n",
       "<table border=\"1\" class=\"dataframe\">\n",
       "  <thead>\n",
       "    <tr style=\"text-align: right;\">\n",
       "      <th>title</th>\n",
       "      <th>\"Great Performances\" Cats (1998)</th>\n",
       "      <th>'71 (2014)</th>\n",
       "      <th>'Hellboy': The Seeds of Creation (2004)</th>\n",
       "      <th>'Round Midnight (1986)</th>\n",
       "      <th>'Salem's Lot (2004)</th>\n",
       "      <th>'Til There Was You (1997)</th>\n",
       "      <th>'burbs, The (1989)</th>\n",
       "      <th>'night Mother (1986)</th>\n",
       "      <th>(500) Days of Summer (2009)</th>\n",
       "      <th>(Untitled) (2009)</th>\n",
       "      <th>...</th>\n",
       "      <th>[REC]² (2009)</th>\n",
       "      <th>[REC]³ 3 Génesis (2012)</th>\n",
       "      <th>eXistenZ (1999)</th>\n",
       "      <th>iBoy (2017)</th>\n",
       "      <th>loudQUIETloud: A Film About the Pixies (2006)</th>\n",
       "      <th>xXx (2002)</th>\n",
       "      <th>xXx: Return of Xander Cage (2017)</th>\n",
       "      <th>xXx: State of the Union (2005)</th>\n",
       "      <th>¡Three Amigos! (1986)</th>\n",
       "      <th>À nous la liberté (Freedom for Us) (1931)</th>\n",
       "    </tr>\n",
       "    <tr>\n",
       "      <th>userId</th>\n",
       "      <th></th>\n",
       "      <th></th>\n",
       "      <th></th>\n",
       "      <th></th>\n",
       "      <th></th>\n",
       "      <th></th>\n",
       "      <th></th>\n",
       "      <th></th>\n",
       "      <th></th>\n",
       "      <th></th>\n",
       "      <th></th>\n",
       "      <th></th>\n",
       "      <th></th>\n",
       "      <th></th>\n",
       "      <th></th>\n",
       "      <th></th>\n",
       "      <th></th>\n",
       "      <th></th>\n",
       "      <th></th>\n",
       "      <th></th>\n",
       "      <th></th>\n",
       "    </tr>\n",
       "  </thead>\n",
       "  <tbody>\n",
       "    <tr>\n",
       "      <th>1</th>\n",
       "      <td>0.0</td>\n",
       "      <td>0.0</td>\n",
       "      <td>0.0</td>\n",
       "      <td>0.0</td>\n",
       "      <td>0.0</td>\n",
       "      <td>0.0</td>\n",
       "      <td>0.0</td>\n",
       "      <td>0.0</td>\n",
       "      <td>0.0</td>\n",
       "      <td>0.0</td>\n",
       "      <td>...</td>\n",
       "      <td>0.0</td>\n",
       "      <td>0.0</td>\n",
       "      <td>0.0</td>\n",
       "      <td>0.0</td>\n",
       "      <td>0.0</td>\n",
       "      <td>0.0</td>\n",
       "      <td>0.0</td>\n",
       "      <td>0.0</td>\n",
       "      <td>4.0</td>\n",
       "      <td>0.0</td>\n",
       "    </tr>\n",
       "    <tr>\n",
       "      <th>2</th>\n",
       "      <td>0.0</td>\n",
       "      <td>0.0</td>\n",
       "      <td>0.0</td>\n",
       "      <td>0.0</td>\n",
       "      <td>0.0</td>\n",
       "      <td>0.0</td>\n",
       "      <td>0.0</td>\n",
       "      <td>0.0</td>\n",
       "      <td>0.0</td>\n",
       "      <td>0.0</td>\n",
       "      <td>...</td>\n",
       "      <td>0.0</td>\n",
       "      <td>0.0</td>\n",
       "      <td>0.0</td>\n",
       "      <td>0.0</td>\n",
       "      <td>0.0</td>\n",
       "      <td>0.0</td>\n",
       "      <td>0.0</td>\n",
       "      <td>0.0</td>\n",
       "      <td>0.0</td>\n",
       "      <td>0.0</td>\n",
       "    </tr>\n",
       "    <tr>\n",
       "      <th>3</th>\n",
       "      <td>0.0</td>\n",
       "      <td>0.0</td>\n",
       "      <td>0.0</td>\n",
       "      <td>0.0</td>\n",
       "      <td>0.0</td>\n",
       "      <td>0.0</td>\n",
       "      <td>0.0</td>\n",
       "      <td>0.0</td>\n",
       "      <td>0.0</td>\n",
       "      <td>0.0</td>\n",
       "      <td>...</td>\n",
       "      <td>0.0</td>\n",
       "      <td>0.0</td>\n",
       "      <td>0.0</td>\n",
       "      <td>0.0</td>\n",
       "      <td>0.0</td>\n",
       "      <td>0.0</td>\n",
       "      <td>0.0</td>\n",
       "      <td>0.0</td>\n",
       "      <td>0.0</td>\n",
       "      <td>0.0</td>\n",
       "    </tr>\n",
       "    <tr>\n",
       "      <th>4</th>\n",
       "      <td>0.0</td>\n",
       "      <td>0.0</td>\n",
       "      <td>0.0</td>\n",
       "      <td>0.0</td>\n",
       "      <td>0.0</td>\n",
       "      <td>0.0</td>\n",
       "      <td>0.0</td>\n",
       "      <td>0.0</td>\n",
       "      <td>0.0</td>\n",
       "      <td>0.0</td>\n",
       "      <td>...</td>\n",
       "      <td>0.0</td>\n",
       "      <td>0.0</td>\n",
       "      <td>3.5</td>\n",
       "      <td>0.0</td>\n",
       "      <td>0.0</td>\n",
       "      <td>3.5</td>\n",
       "      <td>0.0</td>\n",
       "      <td>0.0</td>\n",
       "      <td>3.0</td>\n",
       "      <td>0.0</td>\n",
       "    </tr>\n",
       "    <tr>\n",
       "      <th>5</th>\n",
       "      <td>0.0</td>\n",
       "      <td>0.0</td>\n",
       "      <td>0.0</td>\n",
       "      <td>0.0</td>\n",
       "      <td>0.0</td>\n",
       "      <td>0.0</td>\n",
       "      <td>0.0</td>\n",
       "      <td>0.0</td>\n",
       "      <td>0.0</td>\n",
       "      <td>0.0</td>\n",
       "      <td>...</td>\n",
       "      <td>0.0</td>\n",
       "      <td>0.0</td>\n",
       "      <td>0.0</td>\n",
       "      <td>0.0</td>\n",
       "      <td>0.0</td>\n",
       "      <td>0.0</td>\n",
       "      <td>0.0</td>\n",
       "      <td>0.0</td>\n",
       "      <td>0.0</td>\n",
       "      <td>0.0</td>\n",
       "    </tr>\n",
       "  </tbody>\n",
       "</table>\n",
       "<p>5 rows × 11132 columns</p>\n",
       "</div>"
      ],
      "text/plain": [
       "title   \"Great Performances\" Cats (1998)  '71 (2014)  \\\n",
       "userId                                                 \n",
       "1                                    0.0         0.0   \n",
       "2                                    0.0         0.0   \n",
       "3                                    0.0         0.0   \n",
       "4                                    0.0         0.0   \n",
       "5                                    0.0         0.0   \n",
       "\n",
       "title   'Hellboy': The Seeds of Creation (2004)  'Round Midnight (1986)  \\\n",
       "userId                                                                    \n",
       "1                                           0.0                     0.0   \n",
       "2                                           0.0                     0.0   \n",
       "3                                           0.0                     0.0   \n",
       "4                                           0.0                     0.0   \n",
       "5                                           0.0                     0.0   \n",
       "\n",
       "title   'Salem's Lot (2004)  'Til There Was You (1997)  'burbs, The (1989)  \\\n",
       "userId                                                                       \n",
       "1                       0.0                        0.0                 0.0   \n",
       "2                       0.0                        0.0                 0.0   \n",
       "3                       0.0                        0.0                 0.0   \n",
       "4                       0.0                        0.0                 0.0   \n",
       "5                       0.0                        0.0                 0.0   \n",
       "\n",
       "title   'night Mother (1986)  (500) Days of Summer (2009)  (Untitled) (2009)  \\\n",
       "userId                                                                         \n",
       "1                        0.0                          0.0                0.0   \n",
       "2                        0.0                          0.0                0.0   \n",
       "3                        0.0                          0.0                0.0   \n",
       "4                        0.0                          0.0                0.0   \n",
       "5                        0.0                          0.0                0.0   \n",
       "\n",
       "title   ...  [REC]² (2009)  [REC]³ 3 Génesis (2012)  eXistenZ (1999)  \\\n",
       "userId  ...                                                            \n",
       "1       ...            0.0                      0.0              0.0   \n",
       "2       ...            0.0                      0.0              0.0   \n",
       "3       ...            0.0                      0.0              0.0   \n",
       "4       ...            0.0                      0.0              3.5   \n",
       "5       ...            0.0                      0.0              0.0   \n",
       "\n",
       "title   iBoy (2017)  loudQUIETloud: A Film About the Pixies (2006)  \\\n",
       "userId                                                               \n",
       "1               0.0                                            0.0   \n",
       "2               0.0                                            0.0   \n",
       "3               0.0                                            0.0   \n",
       "4               0.0                                            0.0   \n",
       "5               0.0                                            0.0   \n",
       "\n",
       "title   xXx (2002)  xXx: Return of Xander Cage (2017)  \\\n",
       "userId                                                  \n",
       "1              0.0                                0.0   \n",
       "2              0.0                                0.0   \n",
       "3              0.0                                0.0   \n",
       "4              3.5                                0.0   \n",
       "5              0.0                                0.0   \n",
       "\n",
       "title   xXx: State of the Union (2005)  ¡Three Amigos! (1986)  \\\n",
       "userId                                                          \n",
       "1                                  0.0                    4.0   \n",
       "2                                  0.0                    0.0   \n",
       "3                                  0.0                    0.0   \n",
       "4                                  0.0                    3.0   \n",
       "5                                  0.0                    0.0   \n",
       "\n",
       "title   À nous la liberté (Freedom for Us) (1931)  \n",
       "userId                                             \n",
       "1                                             0.0  \n",
       "2                                             0.0  \n",
       "3                                             0.0  \n",
       "4                                             0.0  \n",
       "5                                             0.0  \n",
       "\n",
       "[5 rows x 11132 columns]"
      ]
     },
     "execution_count": 13,
     "metadata": {},
     "output_type": "execute_result"
    }
   ],
   "source": [
    "user_ratings = user_ratings.dropna(thresh=4,axis=1).fillna(0)\n",
    "user_ratings.head()"
   ]
  },
  {
   "cell_type": "markdown",
   "metadata": {
    "colab_type": "text",
    "id": "4HLeG7nQdztq"
   },
   "source": [
    "Now, we have successfully pivoted our dataframe and ready to run correlation and find movies to watch"
   ]
  },
  {
   "cell_type": "markdown",
   "metadata": {
    "colab_type": "text",
    "id": "BWtkZ8iddztr"
   },
   "source": [
    "### Using Pearson Correlation method for Prediction\n",
    "- Definition: __the Pearson correlation coefficient, also referred to as Pearson's r, the Pearson product-moment correlation coefficient or the bivariate correlation, is a statistic that measures linear correlation between two variables X and Y.__ \n",
    "\n",
    "<img src=\"https://www.statisticshowto.com/wp-content/uploads/2012/10/pearson-2-small.png\" height=300 width=450>\n",
    "\n",
    "[Image source](https://www.google.com/url?sa=i&url=https%3A%2F%2Fwww.statisticshowto.com%2Fprobability-and-statistics%2Fcorrelation-coefficient-formula%2F&psig=AOvVaw0umyp2AA-N9k_r0jUOTaKA&ust=1591963817193000&source=images&cd=vfe&ved=0CAIQjRxqFwoTCKCk-sLd-ekCFQAAAAAdAAAAABAN)\n",
    "\n",
    "\n",
    "> __So we will be using Correlation coefficient to determine which movie will be the best to be recommended to the user.__"
   ]
  },
  {
   "cell_type": "code",
   "execution_count": null,
   "metadata": {
    "colab": {
     "base_uri": "https://localhost:8080/",
     "height": 899
    },
    "colab_type": "code",
    "id": "40_W1BuLdztr",
    "outputId": "1220b21b-58ef-49f7-ef6a-9092a5f541ec"
   },
   "outputs": [],
   "source": [
    "item_similarity_df = user_ratings.corr(method='pearson')\n",
    "item_similarity_df"
   ]
  },
  {
   "cell_type": "markdown",
   "metadata": {
    "colab_type": "text",
    "id": "8eY4suEhdztv"
   },
   "source": [
    "# Time To make Some Predicitons"
   ]
  },
  {
   "cell_type": "markdown",
   "metadata": {
    "colab_type": "text",
    "id": "cwBpAWq0dztv"
   },
   "source": [
    "We will create a function that will find user entered movie in our data set and will return the similiar score for entered movie"
   ]
  },
  {
   "cell_type": "code",
   "execution_count": null,
   "metadata": {
    "colab": {},
    "colab_type": "code",
    "id": "uz3cEkb6dztw"
   },
   "outputs": [],
   "source": [
    "def get_similar_movies(movie_name, user_rating):\n",
    "    similar_score = item_similarity_df[movie_name]*(user_rating-2.5)\n",
    "    similar_score = similar_score.sort_values(ascending=False)\n",
    "    \n",
    "    return similar_score"
   ]
  },
  {
   "cell_type": "markdown",
   "metadata": {
    "colab_type": "text",
    "id": "EsWAMB_5dztz"
   },
   "source": [
    "A function to collect information from our user about his movie prefrences to make further predicitions"
   ]
  },
  {
   "cell_type": "code",
   "execution_count": null,
   "metadata": {
    "colab": {},
    "colab_type": "code",
    "id": "HwnOApJEdzt0"
   },
   "outputs": [],
   "source": [
    "def get_movies_from_user():\n",
    "    n = int(input(\"Enter total number of your favourite movies: \"))\n",
    "    movies_list=[]\n",
    "    for i in range(0,n):\n",
    "        movie_name = input('Enter one of your favourite Movie: ')\n",
    "        rating = int(input('Rate the above movie according to you(out of 5): '))\n",
    "        movies_list.append((movie_name, rating))\n",
    "    return movies_list, n"
   ]
  },
  {
   "cell_type": "markdown",
   "metadata": {
    "colab_type": "text",
    "id": "JMTbeieldzt3"
   },
   "source": [
    "Function to search, sort and return a dataframe with movies sorted according to user's movies preference"
   ]
  },
  {
   "cell_type": "code",
   "execution_count": null,
   "metadata": {
    "colab": {},
    "colab_type": "code",
    "id": "L_zJXIZidzt4"
   },
   "outputs": [],
   "source": [
    "def find_similar_movies(user_movies):\n",
    "    similar_movies = pd.DataFrame()\n",
    "\n",
    "    for movie,rating in user_movies:\n",
    "        similar_movies = similar_movies.append((get_similar_movies(movie,rating)),ignore_index=True)\n",
    "    \n",
    "    return similar_movies\n",
    "    "
   ]
  },
  {
   "cell_type": "markdown",
   "metadata": {
    "colab_type": "text",
    "id": "U9_u_7Dxdzt8"
   },
   "source": [
    "Final peice of Code, a main function."
   ]
  },
  {
   "cell_type": "code",
   "execution_count": null,
   "metadata": {
    "colab": {},
    "colab_type": "code",
    "id": "-9r9BZnmdzt8"
   },
   "outputs": [],
   "source": [
    "def main():\n",
    "    user_movies, movies_by_user = get_movies_from_user()\n",
    "    suggested_movies = find_similar_movies(user_movies)\n",
    "    suggested_movies = suggested_movies.sum().sort_values(ascending=False)\n",
    "    suggested_movies=suggested_movies.reset_index()\n",
    "    movies_list = list(suggested_movies['index'])\n",
    "    n = int(input('Enter how many recommendation do you want: '))\n",
    "    print('-------------------Fetching your Recommended Movies------------------------')\n",
    "    print('-------------------------------------------------------------------------')\n",
    "    for i in range(movies_by_user, n+movies_by_user-1):\n",
    "      print(movies_list[i])"
   ]
  },
  {
   "cell_type": "code",
   "execution_count": null,
   "metadata": {
    "colab": {
     "base_uri": "https://localhost:8080/",
     "height": 337
    },
    "colab_type": "code",
    "id": "hraPo00Bv0QQ",
    "outputId": "b4f7c050-08f6-4fa8-9bcf-ab9e6514351f"
   },
   "outputs": [],
   "source": [
    "main()"
   ]
  },
  {
   "cell_type": "markdown",
   "metadata": {
    "colab_type": "text",
    "id": "rNid3KYkdzt_"
   },
   "source": [
    "## Summary\n",
    "The above recommendation system uses item to item collaborative approach.\n",
    "This system is the simpleset implementation of recommendation system and need a lot of tuning. The Pearson Correlation method is not a very reliable method and can be replaced by KNN(K-Nearest Neighbors) algorithm to make a more precise model. Also the system's first recommendations will always be the popular movies which are voted by nore people so a change can also be made there."
   ]
  },
  {
   "cell_type": "code",
   "execution_count": null,
   "metadata": {
    "colab": {
     "base_uri": "https://localhost:8080/",
     "height": 227
    },
    "colab_type": "code",
    "id": "Y6iTm4NPdzuA",
    "outputId": "1e9742d3-4f04-4839-be98-d7af2e888878"
   },
   "outputs": [],
   "source": [
    "# get rating frequency\n",
    "df_movies_cnt = pd.DataFrame(ratings_df.groupby('movieId').size(), columns=['count'])\n",
    "df_movies_cnt.head()"
   ]
  },
  {
   "cell_type": "code",
   "execution_count": null,
   "metadata": {
    "colab": {
     "base_uri": "https://localhost:8080/",
     "height": 534
    },
    "colab_type": "code",
    "id": "OIbIJm-pdzuE",
    "outputId": "1966823f-5186-48da-ac77-06f1938db643"
   },
   "outputs": [],
   "source": [
    "# plot rating frequency of all movies\n",
    "ax = df_movies_cnt \\\n",
    "    .sort_values('count', ascending=False) \\\n",
    "    .reset_index(drop=True) \\\n",
    "    .plot(\n",
    "        figsize=(12, 8),\n",
    "        title='Rating Frequency of All Movies',\n",
    "        fontsize=12\n",
    "    )\n",
    "ax.set_xlabel(\"movie Id\")\n",
    "ax.set_ylabel(\"number of ratings\")"
   ]
  },
  {
   "cell_type": "markdown",
   "metadata": {
    "colab_type": "text",
    "id": "aJurbe_ddzuH"
   },
   "source": [
    "The distribution of ratings among movies often satisfies a property in real-world settings, which is referred to as the long-tail property. According to this property, only a small fraction of the items are rated frequently. Such items are referred to as popular items. The vast majority of items are rated rarely. This results in a highly skewed distribution of the underlying ratings."
   ]
  }
 ],
 "metadata": {
  "colab": {
   "collapsed_sections": [],
   "name": "Collaborative Filtering based Movie Recommendation System.ipynb",
   "provenance": []
  },
  "kernelspec": {
   "display_name": "Python 3",
   "language": "python",
   "name": "python3"
  },
  "language_info": {
   "codemirror_mode": {
    "name": "ipython",
    "version": 3
   },
   "file_extension": ".py",
   "mimetype": "text/x-python",
   "name": "python",
   "nbconvert_exporter": "python",
   "pygments_lexer": "ipython3",
   "version": "3.7.6"
  }
 },
 "nbformat": 4,
 "nbformat_minor": 1
}
